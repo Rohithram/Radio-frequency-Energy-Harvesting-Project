{
 "cells": [
  {
   "cell_type": "markdown",
   "metadata": {},
   "source": [
    "## Simulation of Wireless Sensor Network Utilizing Radio-Frequency Energy Harvesting."
   ]
  },
  {
   "cell_type": "markdown",
   "metadata": {},
   "source": [
    "### Assumptions:\n",
    "* Interested in RF bands such as GSM, 3G and Wi-Fi.\n",
    "* Requires minimum power levels with $\\geq$ -40dBm in ambient signals\n",
    "* −15 dBm as input power level calibrating for a directional antenna."
   ]
  },
  {
   "cell_type": "markdown",
   "metadata": {},
   "source": [
    "## Observations:\n",
    "*  the received power is at best −20 dBm when using omnidirectional monopole antennas.\n",
    "* RF harvesting systems often use omnidirectional antennas, but this results in a low gain, and the system then relies only on high levels of available RF power.\n",
    "* The optimal load for the cellular rectenna is 4 kΩ.\n",
    "* Max efficiency obtained is around $20\\%$ and Output power $\\approx \\ 1.5-6 \\ \\mu W$"
   ]
  },
  {
   "cell_type": "markdown",
   "metadata": {},
   "source": [
    "## System Description : \n",
    "* The RF energy-harvesting system is designed to be operable in the 1.7–2.2- and 2.4–2.5-GHz bands\n",
    "* design the systems in such a way that they can work either jointly or as standalone devices.\n",
    "* Directional antennas are employed\n",
    "* They are placed on the device such that full azimuthal coverage is obtained. \n",
    "* Rectangular parallele-pipedcuboid approach with antennas on all six faces.\n",
    "* Four out of six faces for the Wi-Fi band and the remaining two for the cellular band. \n",
    "*  **Patch antennas** $\\rightarrow$ Wi-Fi band, Linear tapered slot antennas (**LTSAs**) $\\rightarrow$ cellular bands.\n",
    "* All RF signals are combined at the RF-Domain, instead of the dc power.\n",
    "* This enforces radiation pattern and an inherent circular array mode is excited.\n",
    "* But adds complexity and increases the size of the system\n",
    "* Performance of the system is evaluated by its efficiency. $\\eta = \\frac{P_{dc}}{P_{RF}}$ where $P_{dc}$ is the dc output power,$P_{RF}$ is the output power delivered from the antenna port.\n",
    "* Antenna Efficiency is not taken into account, as used antennas have atleast 90$\\%$ efficiency.\n",
    "$\\begin{equation}\n",
    "    P_{dc} = \\frac{V_{dc}^2}{R_{Load}}\n",
    "\\end{equation}$\n",
    "* The use of two antennas results in a doubling of the available RF power at the rectifier. This results in an approximate doubling of the output voltage, with the same levels of ambient fields, resulting in a doubling of the rectifier efficiency\n",
    "$\\begin{equation} \\eta_{diff} = \\frac{(2V_{dc})^2}{2P_{Rf}R_{Load}}  = 2\\eta  \\end{equation}$\n",
    "* $\\begin{equation} \\eta_{sys} = \\eta_{ant}\\ \\text{x} \\ \\eta_{rect}   \\end{equation}$"
   ]
  },
  {
   "cell_type": "markdown",
   "metadata": {},
   "source": [
    "## LTSA: \n",
    "* It is an endfire radiating antenna.\n",
    "* Covers the azimuthal space by placing four antennas, one in each 90° sector, covering two faces with eight antennas.\n",
    "* Wide-band properties, can cover all of the allocated bands for the 3G signal around the world."
   ]
  },
  {
   "cell_type": "markdown",
   "metadata": {},
   "source": [
    "## Rectification of RF energy\n",
    "* Employed two antennas receiving in the same polarization and used a Greinacher voltage doubler in each antenna, to use positive and negative full wave rectification.\n",
    "* Advantage: We decrease the lowest level feasible for harvesting, as compared to a normal fullwave rectifier using Schottky diodes\n",
    "* A Diode is used, per antenna, to short-circuit the capacitor on the dc output side in the case of a reverse current. This current can appear if the levels of the incident signal vary between the two antennas. \n",
    "* In this case, the two dc capacitors will charge in different levels, creating a voltage difference resulting in a discharge current.\n",
    "* The diode avoids this effect with a minimal efficiency drop"
   ]
  },
  {
   "cell_type": "markdown",
   "metadata": {},
   "source": [
    "## Structure:\n",
    "* The overall structure contains 24 antenna ports (16 for Wi-Fi and eight for cellular) that are connected to their corresponding rectifiers, constituting a 12-differential pair system.\n",
    "* This corresponds to eight differential voltage sources for the Wi-Fi band rectenna module and four differential voltage sources for the cellular rectenna module.\n",
    "* The power combining from all rectennas is implemented with a dc series combiner\n",
    "* Supercapacitor is used to store the energy\n",
    "* **Rectifier** \n",
    "    * The rectifiers can be divided into two main parts: the RF part that corresponds to the matching network and the dc part that corresponds to the circuitry after the diode component.\n",
    "    * To ensure stability in the solution, the length of the stub in the matching network was varied $\\pm$0.5 mm in the simulations."
   ]
  },
  {
   "cell_type": "markdown",
   "metadata": {},
   "source": [
    "## Challenges:\n",
    "*  Impedance of the schottky diodes has a very large imaginary part for the power levels considered for harvesting. This complicates the process of matching the antennas to the rectifying circuits (especially for the wide-band matching needed for the LTSA), which is necessary to minimize power losses\n",
    "* Higher-order harmonics can be generated by nonlinear components, such as the diodes that are used, and this may cause the impedance to be dependent on the dimensions of the dc transmission lines"
   ]
  },
  {
   "cell_type": "markdown",
   "metadata": {},
   "source": [
    "## Simulation of Cellular module\n",
    "* cellular bands: 3G,2.1 GHz, and GSM, 1.8 GHz.\n",
    "### To-Do List:\n",
    "\n",
    "\n",
    "* Simulate far-field of LTSA (E-plane).\n",
    "* Simulate LTSA's $S_{11}$ reflection coefficient with and without corrugations.\n",
    "* Design a dual-band rectifier to accomodate both bands using two half T-networks to match the two band.\n",
    "* Simulate LTSA rectifier to find input reflection coefficient, the voltage output, and the efficiency for the cellular rectifier with the given dimensions at $-15$ dBm input power.\n",
    "* If time permits\n",
    "    * Simulated 3-D radiation patterns. From LTSA on the top face at 1.8 GHz,2.1 GHz and from the patch antenna at 2.45 GHz, horizontal polarization, vertical polarization.\n",
    "    * Sensitivity analysis of the dc part was conducted, varying the lengths and widths of the lines to ensure that our impedance will remain stable. To illustrate this, a linear sweep, from 3 to 7 mm with a step size of 0.8 mm, of one microstrip length L at the dc part of the single-band rectifier. It is observed that the impedance changes rapidly at first but converges as the length increases. This process was performed on all of the microstrip components on the dc part"
   ]
  },
  {
   "cell_type": "code",
   "execution_count": 2,
   "metadata": {
    "collapsed": true
   },
   "outputs": [],
   "source": [
    "import numpy as np\n",
    "import pandas as pd"
   ]
  },
  {
   "cell_type": "code",
   "execution_count": 1,
   "metadata": {
    "collapsed": true
   },
   "outputs": [],
   "source": [
    "import PySpice as ps"
   ]
  }
 ],
 "metadata": {
  "kernelspec": {
   "display_name": "Python 3",
   "language": "python",
   "name": "python3"
  },
  "language_info": {
   "codemirror_mode": {
    "name": "ipython",
    "version": 3
   },
   "file_extension": ".py",
   "mimetype": "text/x-python",
   "name": "python",
   "nbconvert_exporter": "python",
   "pygments_lexer": "ipython3",
   "version": "3.6.8"
  }
 },
 "nbformat": 4,
 "nbformat_minor": 2
}
