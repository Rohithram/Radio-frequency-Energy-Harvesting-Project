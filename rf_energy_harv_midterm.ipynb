{
 "cells": [
  {
   "cell_type": "markdown",
   "metadata": {},
   "source": [
    "## Simulation of Wireless Sensor Network Utilizing Radio-Frequency Energy Harvesting."
   ]
  },
  {
   "cell_type": "markdown",
   "metadata": {},
   "source": [
    "### Assumptions:\n",
    "* Interested in RF bands such as GSM, 3G and Wi-Fi.\n",
    "* Requires minimum power levels with $\\geq$ -40dBm in ambient signals\n",
    "* −15 dBm as input power level calibrating for a directional antenna."
   ]
  },
  {
   "cell_type": "markdown",
   "metadata": {},
   "source": [
    "## Observations:\n",
    "*  the received power is at best −20 dBm when using omnidirectional monopole antennas.\n",
    "* RF harvesting systems often use omnidirectional antennas, but this results in a low gain, and the system then relies only on high levels of available RF power"
   ]
  },
  {
   "cell_type": "markdown",
   "metadata": {},
   "source": [
    "## System Description : \n",
    "* The RF energy-harvesting system is designed to be operable in the 1.7–2.2- and 2.4–2.5-GHz bands\n",
    "* design the systems in such a way that they can work either jointly or as standalone devices.\n",
    "* Directional antennas are employed\n",
    "* They are placed on the device such that full azimuthal coverage is obtained. \n",
    "* Rectangular parallele-pipedcuboid approach with antennas on all six faces.\n",
    "* Four out of six faces for the Wi-Fi band and the remaining two for the cellular band. \n",
    "*  **Patch antennas** $\\rightarrow$ Wi-Fi band, Linear tapered slot antennas (**LTSAs**) $\\rightarrow$ cellular bands.\n",
    "* All RF signals are combined at the RF-Domain, instead of the dc power.\n",
    "* This enforces radiation pattern and an inherent circular array mode is excited.\n",
    "* But adds complexity and increases the size of the system\n",
    "* Performance of the system is evaluated by its efficiency. $\\eta = \\frac{P_{dc}}{P_{RF}}$ where $P_{dc}$ is the dc output power,$P_{RF}$ is the output power delivered from the antenna port.\n",
    "* Antenna Efficiency is not taken into account, as used antennas have atleast 90$\\%$ efficiency."
   ]
  },
  {
   "cell_type": "markdown",
   "metadata": {},
   "source": [
    "## LTSA: \n",
    "* It is an endfire radiating antenna.\n",
    "* Covers the azimuthal space by placing four antennas, one in each 90° sector, covering two faces with eight antennas.\n",
    "* Wide-band properties, can cover all of the allocated bands for the 3G signal around the world."
   ]
  },
  {
   "cell_type": "markdown",
   "metadata": {},
   "source": [
    "## Rectification of RF energy\n",
    "* Employed two antennas receiving in the same polarization and used a Greinacher voltage doubler in each antenna, to use positive and negative full wave rectification.\n",
    "* Advantage: We decrease the lowest level feasible for harvesting, as compared to a normal fullwave rectifier using Schottky diodes\n",
    "* A Diode is used, per antenna, to short-circuit the capacitor on the dc output side in the case of a reverse current. This current can appear if the levels of the incident signal vary between the two antennas. \n",
    "* In this case, the two dc capacitors will charge in different levels, creating a voltage difference resulting in a discharge current.\n",
    "* The diode avoids this effect with a minimal efficiency drop"
   ]
  },
  {
   "cell_type": "code",
   "execution_count": 2,
   "metadata": {
    "collapsed": true
   },
   "outputs": [],
   "source": [
    "import numpy as np\n",
    "import pandas as pd"
   ]
  },
  {
   "cell_type": "code",
   "execution_count": 1,
   "metadata": {
    "collapsed": true
   },
   "outputs": [],
   "source": [
    "import PySpice as ps"
   ]
  }
 ],
 "metadata": {
  "kernelspec": {
   "display_name": "Python 3",
   "language": "python",
   "name": "python3"
  },
  "language_info": {
   "codemirror_mode": {
    "name": "ipython",
    "version": 3
   },
   "file_extension": ".py",
   "mimetype": "text/x-python",
   "name": "python",
   "nbconvert_exporter": "python",
   "pygments_lexer": "ipython3",
   "version": "3.6.8"
  }
 },
 "nbformat": 4,
 "nbformat_minor": 2
}
